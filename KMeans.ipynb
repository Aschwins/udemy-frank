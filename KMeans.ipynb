{
 "cells": [
  {
   "cell_type": "markdown",
   "metadata": {},
   "source": [
    "# K-Means Clustering Example"
   ]
  },
  {
   "cell_type": "markdown",
   "metadata": {},
   "source": [
    "Let's make some fake data that includes people clustered by income and age, randomly:"
   ]
  },
  {
   "cell_type": "code",
   "execution_count": 3,
   "metadata": {
    "collapsed": true
   },
   "outputs": [],
   "source": [
    "from numpy import random, array\n",
    "\n",
    "#Create fake income/age clusters for N people in k clusters\n",
    "def createClusteredData(N, k):\n",
    "    random.seed(10)\n",
    "    pointsPerCluster = float(N)/k\n",
    "    X = []\n",
    "    for i in range (k):\n",
    "        incomeCentroid = random.uniform(20000.0, 200000.0)\n",
    "        ageCentroid = random.uniform(20.0, 70.0)\n",
    "        for j in range(int(pointsPerCluster)):\n",
    "            X.append([random.normal(incomeCentroid, 10000.0), random.normal(ageCentroid, 2.0)])\n",
    "    X = array(X)\n",
    "    return X"
   ]
  },
  {
   "cell_type": "markdown",
   "metadata": {},
   "source": [
    "We'll use k-means to rediscover these clusters in unsupervised learning:"
   ]
  },
  {
   "cell_type": "code",
   "execution_count": 2,
   "metadata": {},
   "outputs": [
    {
     "name": "stdout",
     "output_type": "stream",
     "text": [
      "[0 0 0 0 0 0 0 0 0 0 0 0 0 0 0 0 0 0 0 0 1 1 1 1 1 1 1 1 1 1 1 1 1 1 1 1 1\n",
      " 1 1 1 4 4 4 4 4 4 4 4 4 4 4 4 4 4 4 4 4 4 4 2 3 3 3 3 3 3 3 3 3 3 3 3 3 3\n",
      " 3 3 3 3 3 3 2 2 2 2 2 2 2 2 2 2 2 2 2 2 2 2 2 2 2 2]\n"
     ]
    },
    {
     "data": {
      "image/png": "[encoded data removed]",
      "text/plain": [
       "<matplotlib.figure.Figure at 0x25ae33fbf28>"
      ]
     },
     "metadata": {},
     "output_type": "display_data"
    }
   ],
   "source": [
    "%matplotlib inline\n",
    "\n",
    "from sklearn.cluster import KMeans\n",
    "import matplotlib.pyplot as plt\n",
    "from sklearn.preprocessing import scale\n",
    "from numpy import random, float\n",
    "\n",
    "data = createClusteredData(100, 5)\n",
    "\n",
    "model = KMeans(n_clusters=5)\n",
    "\n",
    "# Note I'm scaling the data to normalize it! Important for good results.\n",
    "model = model.fit(scale(data))\n",
    "\n",
    "# We can look at the clusters each data point was assigned to\n",
    "print(model.labels_)\n",
    "\n",
    "# And we'll visualize it:\n",
    "plt.figure(figsize=(8, 6))\n",
    "plt.scatter(data[:,0], data[:,1], c=model.labels_.astype(float))\n",
    "plt.show()"
   ]
  },
  {
   "cell_type": "markdown",
   "metadata": {},
   "source": [
    "## Activity"
   ]
  },
  {
   "cell_type": "markdown",
   "metadata": {},
   "source": [
    "Things to play with: what happens if you don't scale the data? What happens if you choose different values of K? In the real world, you won't know the \"right\" value of K to start with - you'll need to converge on it yourself."
   ]
  },
  {
   "cell_type": "code",
   "execution_count": 5,
   "metadata": {},
   "outputs": [
    {
     "data": {
      "text/plain": [
       "array([[  1.72153581e+05,   2.24681554e+01],\n",
       "       [  1.43383713e+05,   2.10208298e+01],\n",
       "       [  1.65051076e+05,   1.95974263e+01],\n",
       "       [  1.61492832e+05,   2.12546945e+01],\n",
       "       [  1.58880630e+05,   2.06883970e+01],\n",
       "       [  1.63167978e+05,   2.34436722e+01],\n",
       "       [  1.49187059e+05,   2.30941456e+01],\n",
       "       [  1.61124017e+05,   2.19278727e+01],\n",
       "       [  1.47471694e+05,   2.13078712e+01],\n",
       "       [  1.73683086e+05,   1.88779877e+01],\n",
       "       [  1.39060433e+05,   1.75508529e+01],\n",
       "       [  1.61498417e+05,   2.58075321e+01],\n",
       "       [  1.70074628e+05,   2.43828419e+01],\n",
       "       [  1.59829208e+05,   2.38335902e+01],\n",
       "       [  1.56125236e+05,   2.22640058e+01],\n",
       "       [  1.56164544e+05,   1.99389794e+01],\n",
       "       [  1.60164799e+05,   2.00853134e+01],\n",
       "       [  1.71922447e+05,   2.14276240e+01],\n",
       "       [  1.62839816e+05,   2.03623328e+01],\n",
       "       [  1.71402438e+05,   1.95736585e+01],\n",
       "       [  6.38787736e+04,   6.32181495e+01],\n",
       "       [  6.52271958e+04,   6.37714287e+01],\n",
       "       [  6.98817048e+04,   6.48211639e+01],\n",
       "       [  7.89246339e+04,   6.39019835e+01],\n",
       "       [  7.30140539e+04,   6.47750124e+01],\n",
       "       [  6.78743165e+04,   6.56131440e+01],\n",
       "       [  8.16953546e+04,   6.46039856e+01],\n",
       "       [  9.72201439e+04,   6.60317419e+01],\n",
       "       [  7.21503825e+04,   6.34724631e+01],\n",
       "       [  7.09512847e+04,   6.31933662e+01],\n",
       "       [  8.45609588e+04,   6.28012039e+01],\n",
       "       [  7.24618854e+04,   6.31382318e+01],\n",
       "       [  8.37349358e+04,   6.13597119e+01],\n",
       "       [  6.96481154e+04,   6.39530126e+01],\n",
       "       [  7.64666714e+04,   6.51186298e+01],\n",
       "       [  7.11152083e+04,   6.61749689e+01],\n",
       "       [  7.64206450e+04,   6.91321261e+01],\n",
       "       [  5.81898924e+04,   6.54380253e+01],\n",
       "       [  6.28217819e+04,   6.26008063e+01],\n",
       "       [  9.31239532e+04,   6.76864523e+01],\n",
       "       [  1.04865326e+05,   3.03764746e+01],\n",
       "       [  1.05035499e+05,   3.54265812e+01],\n",
       "       [  1.07696456e+05,   3.06511113e+01],\n",
       "       [  1.16600887e+05,   3.51289868e+01],\n",
       "       [  1.04904684e+05,   3.31321129e+01],\n",
       "       [  1.12643395e+05,   3.64764371e+01],\n",
       "       [  1.00702873e+05,   3.48190740e+01],\n",
       "       [  1.13793791e+05,   3.07308746e+01],\n",
       "       [  1.06698561e+05,   3.08249850e+01],\n",
       "       [  9.62947119e+04,   3.55794017e+01],\n",
       "       [  1.04080137e+05,   3.38396221e+01],\n",
       "       [  1.02563966e+05,   3.63363160e+01],\n",
       "       [  1.12592109e+05,   3.30653610e+01],\n",
       "       [  1.08453212e+05,   3.36982843e+01],\n",
       "       [  1.29567061e+05,   3.31611853e+01],\n",
       "       [  1.02395517e+05,   3.39421350e+01],\n",
       "       [  1.01133542e+05,   3.49221072e+01],\n",
       "       [  1.08254298e+05,   3.14027573e+01],\n",
       "       [  9.97926709e+04,   3.19990037e+01],\n",
       "       [  1.17885858e+05,   3.95705490e+01],\n",
       "       [  3.65071267e+04,   6.95874294e+01],\n",
       "       [  3.28999655e+04,   6.92285837e+01],\n",
       "       [  3.92419707e+04,   7.02307424e+01],\n",
       "       [  2.03753380e+04,   6.66358608e+01],\n",
       "       [  1.62751784e+04,   6.95226242e+01],\n",
       "       [  1.04164446e+04,   6.84513769e+01],\n",
       "       [  3.60740675e+04,   6.89535826e+01],\n",
       "       [  4.25286619e+04,   7.17892944e+01],\n",
       "       [  1.97985103e+04,   6.61763420e+01],\n",
       "       [  2.21943912e+04,   6.79333885e+01],\n",
       "       [  2.64523353e+04,   7.21237791e+01],\n",
       "       [  1.14437641e+04,   6.81175073e+01],\n",
       "       [  2.59983039e+04,   7.11649095e+01],\n",
       "       [  2.77819485e+04,   6.97235585e+01],\n",
       "       [  3.61202987e+04,   6.98819938e+01],\n",
       "       [  2.03047626e+04,   6.90095335e+01],\n",
       "       [  1.56040900e+04,   6.99882928e+01],\n",
       "       [  3.20998085e+04,   6.29357696e+01],\n",
       "       [  3.48562929e+04,   6.87819217e+01],\n",
       "       [  2.72836890e+04,   7.02197112e+01],\n",
       "       [  9.88745447e+04,   3.92621388e+01],\n",
       "       [  1.04947284e+05,   3.98151005e+01],\n",
       "       [  8.50948444e+04,   4.20695150e+01],\n",
       "       [  1.13206850e+05,   4.19736254e+01],\n",
       "       [  9.50775620e+04,   4.03232014e+01],\n",
       "       [  1.07689837e+05,   4.20513185e+01],\n",
       "       [  1.12274168e+05,   4.02560683e+01],\n",
       "       [  8.79967512e+04,   3.94870268e+01],\n",
       "       [  1.07544404e+05,   4.23328692e+01],\n",
       "       [  1.24456053e+05,   4.10792832e+01],\n",
       "       [  1.04651702e+05,   4.04903227e+01],\n",
       "       [  9.81482611e+04,   4.24084707e+01],\n",
       "       [  1.05740332e+05,   4.04303614e+01],\n",
       "       [  9.14085825e+04,   4.05987807e+01],\n",
       "       [  9.82957345e+04,   4.33552678e+01],\n",
       "       [  1.11676817e+05,   3.88002990e+01],\n",
       "       [  1.13877240e+05,   3.97009667e+01],\n",
       "       [  1.03536931e+05,   4.32504081e+01],\n",
       "       [  9.19580267e+04,   4.11657187e+01],\n",
       "       [  9.09008035e+04,   3.69623210e+01]])"
      ]
     },
     "execution_count": 5,
     "metadata": {},
     "output_type": "execute_result"
    }
   ],
   "source": [
    "data"
   ]
  },
  {
   "cell_type": "code",
   "execution_count": null,
   "metadata": {
    "collapsed": true
   },
   "outputs": [],
   "source": []
  }
 ],
 "metadata": {
  "kernelspec": {
   "display_name": "Python 3",
   "language": "python",
   "name": "python3"
  },
  "language_info": {
   "codemirror_mode": {
    "name": "ipython",
    "version": 3
   },
   "file_extension": ".py",
   "mimetype": "text/x-python",
   "name": "python",
   "nbconvert_exporter": "python",
   "pygments_lexer": "ipython3",
   "version": "3.6.1"
  }
 },
 "nbformat": 4,
 "nbformat_minor": 1
}
